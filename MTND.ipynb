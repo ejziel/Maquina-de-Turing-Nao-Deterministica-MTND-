{
 "cells": [
  {
   "cell_type": "markdown",
   "metadata": {},
   "source": [
    "# INTRODUÇÃO"
   ]
  },
  {
   "cell_type": "markdown",
   "metadata": {},
   "source": [
    "Este relatório tem como objetivo mostrar a implementação de um algoritmo que simule uma MTND (Máquina de Turing Não Determinística). A entrada consiste da especificação de uma MTND e de um conjunto de palavras. A saída consiste de uma lista indicando ‘S’ caso a MTND reconheça a palavra em questão e ‘N’ caso contrário.\n",
    "\n",
    "A Máquina de Turing é um dispositivo teórico conhecido como máquina universal. Num sentido preciso, é um modelo abstrato de um computador, que se restringe apenas aos aspectos lógicos do seu funcionamento (memória, estados e transições), e não a sua implementação física. Numa máquina de Turing pode-se modelar qualquer computador digital.\n",
    "\n",
    "Máquina de Turing não-determinística é uma máquina de Turing cujo mecanismo de controle atua como um autômato finito não-determinístico."
   ]
  },
  {
   "cell_type": "markdown",
   "metadata": {},
   "source": [
    "# PROJETO E IMPLEMENTAÇÃO DO ALGORITMO"
   ]
  },
  {
   "cell_type": "markdown",
   "metadata": {},
   "source": [
    "O algoritmo foi implementado para que possa gerir o reconhecimento das palavras a partir da especificação da MTND."
   ]
  },
  {
   "cell_type": "markdown",
   "metadata": {},
   "source": [
    "As primeiras entradas são os estados, símbolos, símbolos da pilha do MTND que serão armazenados como uma lista, bem como o simbolo limitador de fita a esquerda, simbolo de branco e número de transições."
   ]
  },
  {
   "cell_type": "code",
   "execution_count": null,
   "metadata": {},
   "outputs": [],
   "source": [
    "states = input(\"\").split()\n",
    "symbols = input(\"\").split()\n",
    "stack_symbols = input(\"\").split()\n",
    "left_tape_symbol = str(input())\n",
    "white = str(input())\n",
    "transitions_number = int(input())"
   ]
  },
  {
   "cell_type": "markdown",
   "metadata": {},
   "source": [
    "A estrutura de dados escolhida para tabela que contém as transiçoes da MTND foi uma tabela hash (dictonary no Python), que armazena um par chave valor e possui complexidade de busca média de O(1)."
   ]
  },
  {
   "cell_type": "code",
   "execution_count": null,
   "metadata": {},
   "outputs": [],
   "source": [
    "mtnd = {}"
   ]
  },
  {
   "cell_type": "markdown",
   "metadata": {},
   "source": [
    "Para cada estado na MTND foi criada uma chave na tabela hash recém criada."
   ]
  },
  {
   "cell_type": "code",
   "execution_count": null,
   "metadata": {},
   "outputs": [],
   "source": [
    "for state in states:\n",
    "    mtnd[state] = {}"
   ]
  },
  {
   "cell_type": "markdown",
   "metadata": {},
   "source": [
    "Em seguida foram adicinadas as entradas das transições para cada estado, há uma quíntupla <a, b, c, d, e> onde ‘a’ é o estado de origem, ‘b’ é o caractere a ser lido, ‘c’ é o estado de destino, ‘d’ é o símbolo a ser escrito e, por fim, ‘e’ é a direção, imóvel (I), esquerda (E) e direita (D).. Como se trata de uma MTND e cada transição pode levar pra 1 ou mais estados, estes foram armazenados como uma lista de estados."
   ]
  },
  {
   "cell_type": "code",
   "execution_count": null,
   "metadata": {},
   "outputs": [],
   "source": [
    "for i in range(0, transitions_number):\n",
    "    a, b, c, d, e = input(\"\").split()\n",
    "    if b not in mtnd[a]:\n",
    "        mtnd[a][b] = []\n",
    "    mtnd[a][b].append([c,d,e])"
   ]
  },
  {
   "cell_type": "markdown",
   "metadata": {},
   "source": [
    "Demais entradas referentes a estado inicial e lista de estados finais que também será armazenado como uma dict, bem como palavras a serem reconhecidas."
   ]
  },
  {
   "cell_type": "code",
   "execution_count": null,
   "metadata": {},
   "outputs": [],
   "source": [
    "initial_state = str(input())\n",
    "f_states = input(\"\").split()\n",
    "worlds = input(\"\").split()\n",
    "\n",
    "final_states = {}\n",
    "for k in f_states:\n",
    "    final_states[k] = 1"
   ]
  },
  {
   "cell_type": "markdown",
   "metadata": {},
   "source": [
    "A implementação do reconhecimento ou não de palavras é dada da seguinte maneira:\n",
    "A palavra é posta na fita, implementada utilizando um vetor, no qual cada posição será uma posição da fita, que será percorrida utilizado o cabeçote que inicialmente possui o valor 1. De maneira semelhando ao de um APND, uma tripla é colocada em uma pilha, porém essa irá conter o estado atual, a posição do cabeçote e a fita, está tarefa será realizada para cada uma das transições, garantindo o não-determínismo. Caso não exista transições a partir do estado atual, consumindo o caractere que se encontra no cabeçote, ou seja, caso a MTND pare, é feita a verificação se o estado atual é final, caso seja a palavra é aceita, e não caso contrário."
   ]
  },
  {
   "cell_type": "code",
   "execution_count": null,
   "metadata": {},
   "outputs": [],
   "source": [
    "for word in worlds:\n",
    "    \n",
    "    accept = 0\n",
    "\n",
    "    tape = []\n",
    "    headstock = 1\n",
    "\n",
    "    tape.append(left_tape_symbol)\n",
    "\n",
    "    for char in word:\n",
    "        tape.append(char)\n",
    "\n",
    "    tape.append(white)\n",
    "\n",
    "    current_states = [(initial_state, headstock, tape)]\n",
    "    \n",
    "    while accept == 0 and len(current_states) > 0: \n",
    "        t = current_states.pop()\n",
    "        t_state = t[0] #estado\n",
    "        t_headstock= t[1] #cabeçote\n",
    "        t_tape = t[2] #fita\n",
    "\n",
    "        if(mtnd[t_state].get(t_tape[t_headstock])):\n",
    "            new_state = mtnd[t_state][t_tape[t_headstock]]\n",
    "            for state in new_state:\n",
    "                new_tape = t_tape.copy()\n",
    "\n",
    "                new_tape[t_headstock] = state[1] #escreve na fita\n",
    "            \n",
    "                if(state[2] == \"D\"):\n",
    "                    new_headstock = t_headstock + 1\n",
    "                elif(state[2] == \"E\"):\n",
    "                    new_headstock = t_headstock - 1\n",
    "                else:\n",
    "                    new_headstock = t_headstock\n",
    "                if(new_headstock == len(new_tape)):\n",
    "                    new_tape.append(white)\n",
    "                \n",
    "                current_states.append((state[0], new_headstock, new_tape))\n",
    "        else:\n",
    "            if t_state in final_states:\n",
    "                accept = 1\n",
    "                break\n",
    "            if (len(current_states) == 0):\n",
    "                break\n",
    "\n",
    "    if accept:\n",
    "        print('S')\n",
    "    else:\n",
    "        print('N')"
   ]
  },
  {
   "cell_type": "markdown",
   "metadata": {},
   "source": [
    "# METODOLOGIA"
   ]
  },
  {
   "cell_type": "markdown",
   "metadata": {},
   "source": [
    "Na construção deste algoritmo foi utilizada a linguagem de programação Python em sua versão 3.8.5. Foram utilizadas estruturas de dados do tipo dictionary para armazenar as quíntuplas com as transições da máquina de turing, listas que armazenam as transições compatíveis e as pilhas utilizadas no sistema.\n",
    "\n",
    "Estruturas de repetição e laços condicionais também foram utilizados na implementação do algoritmo. Os pacotes sklearn, time, matplotlib e numpy foram utilizados nos testes, regressão linear e geração dos gráficos tempo de reconhecimento em função do tamanho da palavra."
   ]
  },
  {
   "cell_type": "markdown",
   "metadata": {},
   "source": [
    "# RESULTADOS E CONCLUSÕES"
   ]
  },
  {
   "cell_type": "markdown",
   "metadata": {},
   "source": [
    "No teste de reconhecimento foi utilizado o seguinte autômato, disposto na Tabela 1."
   ]
  },
  {
   "cell_type": "markdown",
   "metadata": {},
   "source": [
    "                             Tabela 1 – Entrada de Máquina de Turing Não-Determinística\n",
    "                             \n",
    "                                                0 1 2 3 4\n",
    "                                                a b\n",
    "                                                A B *\n",
    "                                                <\n",
    "                                                *\n",
    "                                                10\n",
    "                                                0 a 1 A D\n",
    "                                                1 a 1 a D\n",
    "                                                1 B 1 B D\n",
    "                                                1 b 2 B E\n",
    "                                                2 B 2 B E\n",
    "                                                2 a 2 a E\n",
    "                                                2 A 0 A D\n",
    "                                                0 B 3 B D\n",
    "                                                3 B 3 B D\n",
    "                                                3 * 4 * E\n",
    "                                                0\n",
    "                                                4\n",
    "                                                * ab ba abb aab aabb"
   ]
  },
  {
   "cell_type": "markdown",
   "metadata": {},
   "source": [
    "O presente autômato reconhece palavras do tipo a^nb^n|n ≥ 0. Nos testes foram utilizadas palavras com tamanho de 2 a 100, e a palavra vazia, sendo todas palavras aceitas pela MTND. A partir do reconhecimento de cada palavra, foi realizada a extração do tempo necessário para a execução do mesmo, a partir dos dados colhidos foi possível construir o gráfico disposto na Figura 1."
   ]
  },
  {
   "cell_type": "markdown",
   "metadata": {},
   "source": [
    "                       Figura 1 – Gráfico do tempo de reconhecimento em função do tamanho da palavra\n",
    "![alt text](Figure_41241.png \"Title\")"
   ]
  },
  {
   "cell_type": "markdown",
   "metadata": {},
   "source": [
    "O gráfico da Figura 2, mostra que a medida que cresce o tamanho da palavra o tempo de execução também aumenta, porém não possui um comportamento linear, isso se deve ao aumento das possibilidades ao consumir cada símbolo.\n",
    "As saídas do reconhecimento seguiram os resultados esperados nos testes, retornando corretamente ’S’ quando a palavra é reconhecida e ’N’ caso contrário em todos os casos de teste para os quais o algoritmo foi submetido."
   ]
  }
 ],
 "metadata": {
  "kernelspec": {
   "display_name": "Python 3",
   "language": "python",
   "name": "python3"
  },
  "language_info": {
   "codemirror_mode": {
    "name": "ipython",
    "version": 3
   },
   "file_extension": ".py",
   "mimetype": "text/x-python",
   "name": "python",
   "nbconvert_exporter": "python",
   "pygments_lexer": "ipython3",
   "version": "3.8.5"
  }
 },
 "nbformat": 4,
 "nbformat_minor": 4
}
